{
 "cells": [
  {
   "cell_type": "code",
   "execution_count": null,
   "metadata": {},
   "outputs": [],
   "source": [
    "1. Write a program to accept percentage from the user and display the grade according to the following \n",
    "criteria: \n",
    "Marks \n",
    "Grade \n",
    ">90 \n",
    "A \n",
    ">80 and <=90 \n",
    "B \n",
    ">=60 and <=80 \n",
    "C \n",
    "below 60 \n",
    "D \n",
    "2. Write a program to accept the cost price of a bike and display the road tax to be paid according to the \n",
    "following criteria: \n",
    "Tax \n",
    "15% \n",
    "10% \n",
    "5% \n",
    "Cost Price(in Rs) \n",
    ">100000 \n",
    " \n",
    "50000 and <= 100000 \n",
    "<= 50000 \n",
    "3. Accept any city from the user and display monuments of that city. \n",
    "City \n",
    "Delhi \n",
    "Monument \n",
    "Red Fort \n",
    "Taj Mahal \n",
    "Agra \n",
    "Jaipur \n",
    "Jal Mahal \n",
    "4. Check how many times a given number can be divided by 3 before it is less than or equal to 10. \n",
    "5. Why and When to Use while Loop in Python give a detailed description with example \n",
    "6. Use nested while loop to print 3 different pattern. \n",
    "7. Reverse a while loop to display numbers from 10 to 1. \n",
    "\n"
   ]
  }
 ],
 "metadata": {
  "language_info": {
   "name": "python"
  },
  "orig_nbformat": 4
 },
 "nbformat": 4,
 "nbformat_minor": 2
}
