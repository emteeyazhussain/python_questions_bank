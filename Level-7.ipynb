{
 "cells": [
  {
   "cell_type": "code",
   "execution_count": null,
   "metadata": {},
   "outputs": [],
   "source": [
    "Q1. What is Abstraction in OOps? Explain with an example.\n",
    "Q2. Differentiate between Abstraction and Encapsulation. Explain with an example.\n",
    "Q3. What is abc module in python? Why is it used?\n",
    "Q4. How can we achieve data abstraction?\n",
    "Q5. Can we create an instance of an abstract class? Explain your answer.\n",
    "Q6, Create a vehicle class with an init method having instance variables as name_of_vehicle, max_speed\n",
    "and average_of_vehicle.\n",
    "Q7. Create a child class car from the vehicle class created in Que 1, which will inherit the vehicle class.\n",
    "Create a method named seating_capacity which takes capacity as an argument and returns the name of\n",
    "the vehicle and its seating capacity.\n",
    "Q8. What is multiple inheritance? Write a python code to demonstrate multiple inheritance.\n",
    "Q9. What are getter and setter in python? Create a class and create a getter and a setter method in this\n",
    "class.\n",
    "Q10.What is method overriding in python? Write a python code to demonstrate method overriding.\n",
    "Q11. Which function is used to open a file? What are the different modes of opening a file? Explain each mode\n",
    "of file opening.\n",
    "Q12. Why close() function is used? Why is it important to close a file?\n",
    "Q13. Write a python program to create a text file. Write ‘I want to become a Data Scientist’ in that file. Then\n",
    "close the file. Open this file and read the content of the file.\n",
    "Q14. Explain the following with python code: read(), readline() and readlines().\n",
    "Q15. Explain why with statement is used with open(). What is the advantage of using with statement and\n",
    "open() together?\n",
    "Q16. Explain the write() and writelines() functions. Give a suitable example."
   ]
  }
 ],
 "metadata": {
  "language_info": {
   "name": "python"
  },
  "orig_nbformat": 4
 },
 "nbformat": 4,
 "nbformat_minor": 2
}
