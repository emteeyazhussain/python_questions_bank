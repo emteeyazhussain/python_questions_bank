{
 "cells": [
  {
   "cell_type": "code",
   "execution_count": null,
   "metadata": {},
   "outputs": [],
   "source": [
    "Q1. Which keyword is used to create a function? Create a function to return a list of odd numbers in the\n",
    "range of 1 to 25.\n",
    "Q2. Why *args and **kwargs is used in some functions? Create a function each for *args and **kwargs\n",
    "to demonstrate their use.\n",
    "Q3. What is an iterator in python? Name the method used to initialise the iterator object and the method\n",
    "used for iteration. Use these methods to print the first five elements of the given list [2, 4, 6, 8, 10, 12, 14,\n",
    "16, 18, 20].\n",
    "Q4. What is a generator function in python? Why yield keyword is used? Give an example of a generator\n",
    "function.\n",
    "Q5. Create a generator function for prime numbers less than 1000. Use the next() method to print the\n",
    "first 20 prime numbers.\n",
    "Q6. Write a python program to print the first 10 Fibonacci numbers using a while loop.\n",
    "Q7. Write a List Comprehension to iterate through the given string: ‘learnpython’.\n",
    "Expected output: ['l', 'e', 'a', 'r', 'n', 'p', 'y', 't','o','n']\n",
    "Q8. Write a python program to check whether a given number is Palindrome or not using a while loop.\n",
    "Q9. Write a code to print odd numbers from 1 to 100 using list comprehension.\n",
    "Note: Use a list comprehension to create a list from 1 to 100 and use another List comprehension to filter\n",
    "out odd numbers."
   ]
  }
 ],
 "metadata": {
  "kernelspec": {
   "display_name": "Python 3.8.10 64-bit",
   "language": "python",
   "name": "python3"
  },
  "language_info": {
   "name": "python",
   "version": "3.8.10"
  },
  "orig_nbformat": 4,
  "vscode": {
   "interpreter": {
    "hash": "e7370f93d1d0cde622a1f8e1c04877d8463912d04d973331ad4851f04de6915a"
   }
  }
 },
 "nbformat": 4,
 "nbformat_minor": 2
}
