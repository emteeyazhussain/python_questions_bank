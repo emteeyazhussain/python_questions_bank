{
 "cells": [
  {
   "cell_type": "code",
   "execution_count": null,
   "metadata": {},
   "outputs": [],
   "source": [
    "1. Who developed Python Programming Language? \n",
    "2. Which type of Programming does Python support? \n",
    "3. Is Python case sensitive when dealing with identifiers? \n",
    "4. What is the correct extension of the Python file? \n",
    "5. Is Python code compiled or interpreted? \n",
    "6. Name a few blocks of code used to define in Python language? \n",
    "7. State a character used to give single-line comments in Python? \n",
    "8. Mention functions which can help us to find the version of python that we are currently working on? \n",
    "9. Python supports the creation of anonymous functions at runtime, using a construct called \n",
    "10. What does pip stand for python? \n",
    "11. Mention a few built-in functions in python? \n",
    "12. What is the maximum possible length of an identifier in Python? \n",
    "13. What are the benefits of using Python? \n",
    "14. How is memory managed in Python? \n",
    "15. How to install Python on Windows and set path variables? 16. Is indentation required in python? \n"
   ]
  }
 ],
 "metadata": {
  "language_info": {
   "name": "python"
  },
  "orig_nbformat": 4
 },
 "nbformat": 4,
 "nbformat_minor": 2
}
