{
 "cells": [
  {
   "cell_type": "code",
   "execution_count": null,
   "metadata": {},
   "outputs": [],
   "source": [
    "Q1. What is an Exeption in pthon? Write the differene between Exeptions and syntax errors \n",
    "\n",
    "Q2. What happens when an exeption is not handled? Expalin with an example \n",
    "\n",
    "Q3. What Python statements are used to the catch and handle exeptions? Explain with an example\n",
    "\n",
    " Q4. Explain with an example: \n",
    "\n",
    " a)try and else \n",
    " b)finally\n",
    " c)raise\n",
    "Q5. What are Custom Exeptions in pthon? Wh do we need Custom Exeptions? Explain with an example \n",
    "\n",
    "Q6. Crete  custom exeption class. Use this class to handle an exeption. \n",
    "\n",
    "Q7. Explain why we have to use the Exception class while creating a Custom Exception.\n",
    "Note: Here Exception class refers to the base class for all the exceptions.\n",
    "Q8. Write a python program to print Python Exception Hierarchy.\n",
    "\n",
    "Q9. What errors are defined in the ArithmeticError class? Explain any two with an example.\n",
    "\n",
    "Q10. Why LookupError class is used? Explain with an example KeyError and IndexError.\n",
    "\n",
    "Q11. Explain ImportError. What is ModuleNotFoundError?\n",
    "\n",
    "Q12. List down some best practices for exception handling in python.\n"
   ]
  }
 ],
 "metadata": {
  "kernelspec": {
   "display_name": "Python 3.8.10 64-bit",
   "language": "python",
   "name": "python3"
  },
  "language_info": {
   "name": "python",
   "version": "3.8.10"
  },
  "orig_nbformat": 4,
  "vscode": {
   "interpreter": {
    "hash": "e7370f93d1d0cde622a1f8e1c04877d8463912d04d973331ad4851f04de6915a"
   }
  }
 },
 "nbformat": 4,
 "nbformat_minor": 2
}
